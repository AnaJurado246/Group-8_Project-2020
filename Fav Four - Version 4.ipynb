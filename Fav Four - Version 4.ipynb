{
 "cells": [
  {
   "cell_type": "code",
   "execution_count": null,
   "metadata": {},
   "outputs": [],
   "source": [
    "def user():\n",
    "    population = int(input('What is the approximate population size of your city/town? '))\n",
    "    daily_rate = int(input('What was the daily increase of cases in your area? '))\n",
    "    num_gen= int(input('The assumed generation time is 10 days, how many Generation do you want to go through: '))\n",
    "    \n",
    "    high_or_low = input('Would you like the R value to be a high or low estimate? ')\n",
    "    if len(high_or_low)==3:\n",
    "        low_estimate={'England':0.8, 'Northen Ireland':0.9, 'Scotland':0.8, 'Wales':0.8}\n",
    "        country = input('What country in the UK is your town or city? ')\n",
    "        R= low_estimate[country]\n",
    "        return R, country, num_gen, daily_rate, population\n",
    "    else:\n",
    "        high_estimate={'England':1.0, 'Northen Ireland':1.1, 'Scotland':1.0, 'Wales':1.0}\n",
    "        country = input('What country in the UK is your town or city? ')\n",
    "        R = high_estimate[country]\n",
    "        return R, country, num_gen, daily_rate, population"
   ]
  },
  {
   "cell_type": "code",
   "execution_count": null,
   "metadata": {},
   "outputs": [],
   "source": [
    "def calculations():\n",
    "    R, country, num_gen, daily_rate, population = user()\n",
    "    print('The R value for {} is {}. '.format(country, R))\n",
    "    mr= 0.036\n",
    "    print(num_gen)\n",
    "    length= int(num_gen) + 1\n",
    "    gen = range(1, length)\n",
    "    all_cases = [daily_rate]\n",
    "    total_immunity=[]\n",
    "    total_death = []\n",
    "    for b in gen:\n",
    "        if sum(all_cases)<=population:\n",
    "                #equation we have to use if daily_rate or the amount of people who have cororna * r which equals 1+1.3 * change in time which for our gen is 10\n",
    "            total_cases= daily_rate*(1+R)\n",
    "            all_cases.append(total_cases)\n",
    "            if sum(all_cases)>=population:\n",
    "                print('All members of your population will have had the virus on generation {}.'.format(b))\n",
    "                all_cases.remove(total_cases)\n",
    "                remain = population-sum(all_cases)\n",
    "                death= (remain)*0.036\n",
    "                total_death.append(death)\n",
    "                immunity = remain - death\n",
    "                total_immunity.append(immunity)\n",
    "                print('In generation final ({}) generation, the remaining individuals in the population received corona so there was {:.0f} cases, after an increase of {:.0f}. {:.0f} people became immune, and {:.0f} died.'.format(b, remain, \n",
    "                                                                                                                                                   daily_rate, immunity, death))\n",
    "                print('After {} generation(s) of COVID, {:.0f} number of people will be immune.'.format(b,sum(total_immunity)))\n",
    "                break\n",
    "            else:\n",
    "                death =  (total_cases)*0.036\n",
    "                total_death.append(death)\n",
    "                immunity = total_cases - death\n",
    "                total_immunity.append(immunity) \n",
    "                print('In generation {}, there were {:.0f} cases, after an increase of {:.0f}. {:.0f} people became immune, and {:.0f} died.'.format(b, total_cases, \n",
    "                                                                                                                       daily_rate, immunity, death))\n",
    "                print('After {} generation(s) of COVID, {:.0f} number of people will be immune.'.format(b,sum(total_immunity))) \n",
    "                daily_rate = total_cases\n",
    "                all_cases\n",
    "                print(' ')"
   ]
  }
 ],
 "metadata": {
  "kernelspec": {
   "display_name": "Python 3",
   "language": "python",
   "name": "python3"
  },
  "language_info": {
   "codemirror_mode": {
    "name": "ipython",
    "version": 3
   },
   "file_extension": ".py",
   "mimetype": "text/x-python",
   "name": "python",
   "nbconvert_exporter": "python",
   "pygments_lexer": "ipython3",
   "version": "3.8.3"
  }
 },
 "nbformat": 4,
 "nbformat_minor": 4
}
