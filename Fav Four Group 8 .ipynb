{
 "cells": [
  {
   "cell_type": "code",
   "execution_count": null,
   "metadata": {},
   "outputs": [],
   "source": [
    "# BULK\n",
    "# Obtain a population number / ask city or country(panda)\n",
    "# Obtain number of people with covid \n",
    "# "
   ]
  },
  {
   "cell_type": "code",
   "execution_count": 36,
   "metadata": {},
   "outputs": [
    {
     "name": "stdout",
     "output_type": "stream",
     "text": [
      "What is the approximate population size of your city/town? 5000000\n",
      "How many confirmed cases are in your area? 754\n",
      "The assumed generation time is 10 days, how many Generation do you want to go through: 2\n"
     ]
    }
   ],
   "source": [
    "'''Input!'''\n",
    "\n",
    "# Just uk for now\n",
    "\n",
    "k = int(input('What is the approximate population size of your city/town? '))\n",
    "daily_cases = int(input('How many confirmed cases are in your area? '))# This will change\n",
    "T = int(input('The assumed generation time is 10 days, how many Generation do you want to go through: '))"
   ]
  },
  {
   "cell_type": "code",
   "execution_count": 49,
   "metadata": {},
   "outputs": [
    {
     "name": "stdout",
     "output_type": "stream",
     "text": [
      "After 1 generation(s) of COVID, 1939 number of people will be immune\n",
      "The total number of COVID cases will be 2766, after an increase of 2012\n",
      "After 2 generation(s) of COVID, 9041 number of people will be immune\n",
      "The total number of COVID cases will be 10133, after an increase of 9379\n"
     ]
    }
   ],
   "source": [
    "'''Maths! '''\n",
    "\n",
    "# JUST THE UK FOR NOW \n",
    "# Infection lasts a day either dead or immune\n",
    "\n",
    "import math\n",
    "\n",
    "R = 1.3 # will create a dictionary later of more specific R values\n",
    "mr = 0.036 # mortality rate \n",
    "gen = range(1,T+1)\n",
    "\n",
    "for b in gen:\n",
    "    \n",
    "    total_cases = k / (1 + (k - daily_cases)/(daily_cases)*math.exp(-R*b)) \n",
    "    new_cases = total_cases - daily_cases\n",
    "    immunity = new_cases - new_cases*mr\n",
    "    print('After {} generation(s) of COVID, {:.0f} number of people will be immune.'.format(b,immunity)) \n",
    "    print('The total number of COVID cases will be {:.0f}, after an increase of {:.0f}.'.format(total_cases,new_cases))"
   ]
  },
  {
   "cell_type": "code",
   "execution_count": null,
   "metadata": {},
   "outputs": [],
   "source": [
    "'''Output!'''\n",
    "\n",
    "# Two graphs!\n",
    "# One showing a populations reaction to Rona \n",
    "# One showing a populations reaction to Rona with a vaccine "
   ]
  }
 ],
 "metadata": {
  "kernelspec": {
   "display_name": "Python 3",
   "language": "python",
   "name": "python3"
  },
  "language_info": {
   "codemirror_mode": {
    "name": "ipython",
    "version": 3
   },
   "file_extension": ".py",
   "mimetype": "text/x-python",
   "name": "python",
   "nbconvert_exporter": "python",
   "pygments_lexer": "ipython3",
   "version": "3.8.3"
  }
 },
 "nbformat": 4,
 "nbformat_minor": 4
}
